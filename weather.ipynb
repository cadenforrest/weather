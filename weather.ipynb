{
 "cells": [
  {
   "cell_type": "code",
   "execution_count": 189,
   "metadata": {},
   "outputs": [],
   "source": [
    "import pandas as pd"
   ]
  },
  {
   "cell_type": "code",
   "execution_count": 190,
   "metadata": {
    "scrolled": true
   },
   "outputs": [
    {
     "output_type": "execute_result",
     "data": {
      "text/plain": [
       "         City          State  population       Lon      Lat\n",
       "0   Henderson         Nevada      260068 -115.0375  36.0122\n",
       "1  Manchester  New Hampshire      109830  -71.4439  42.9847\n",
       "2   Elizabeth     New Jersey      125660  -74.1935  40.6663\n",
       "3      Newark     New Jersey      277540  -74.1726  40.7242\n",
       "4    Paterson     New Jersey      146427  -74.1628  40.9147"
      ],
      "text/html": "<div>\n<style scoped>\n    .dataframe tbody tr th:only-of-type {\n        vertical-align: middle;\n    }\n\n    .dataframe tbody tr th {\n        vertical-align: top;\n    }\n\n    .dataframe thead th {\n        text-align: right;\n    }\n</style>\n<table border=\"1\" class=\"dataframe\">\n  <thead>\n    <tr style=\"text-align: right;\">\n      <th></th>\n      <th>City</th>\n      <th>State</th>\n      <th>population</th>\n      <th>Lon</th>\n      <th>Lat</th>\n    </tr>\n  </thead>\n  <tbody>\n    <tr>\n      <th>0</th>\n      <td>Henderson</td>\n      <td>Nevada</td>\n      <td>260068</td>\n      <td>-115.0375</td>\n      <td>36.0122</td>\n    </tr>\n    <tr>\n      <th>1</th>\n      <td>Manchester</td>\n      <td>New Hampshire</td>\n      <td>109830</td>\n      <td>-71.4439</td>\n      <td>42.9847</td>\n    </tr>\n    <tr>\n      <th>2</th>\n      <td>Elizabeth</td>\n      <td>New Jersey</td>\n      <td>125660</td>\n      <td>-74.1935</td>\n      <td>40.6663</td>\n    </tr>\n    <tr>\n      <th>3</th>\n      <td>Newark</td>\n      <td>New Jersey</td>\n      <td>277540</td>\n      <td>-74.1726</td>\n      <td>40.7242</td>\n    </tr>\n    <tr>\n      <th>4</th>\n      <td>Paterson</td>\n      <td>New Jersey</td>\n      <td>146427</td>\n      <td>-74.1628</td>\n      <td>40.9147</td>\n    </tr>\n  </tbody>\n</table>\n</div>"
     },
     "metadata": {},
     "execution_count": 190
    }
   ],
   "source": [
    "# Read data using pandas\n",
    "dfpop = pd.read_csv     (r'Data/populationdata.csv')\n",
    "dfpop.head()"
   ]
  },
  {
   "cell_type": "code",
   "execution_count": 191,
   "metadata": {},
   "outputs": [
    {
     "output_type": "execute_result",
     "data": {
      "text/plain": [
       "            name  country_name country_code      continent station_code  \\\n",
       "0        Atlanta  UnitedStates          USA  North America         KATL   \n",
       "1  Windsor Locks  UnitedStates          USA  North America         KBDL   \n",
       "2      Nashville  UnitedStates          USA  North America         KBNA   \n",
       "3          Boise  UnitedStates          USA  North America         KBOI   \n",
       "4         Boston  UnitedStates          USA  North America         KBOS   \n",
       "\n",
       "  location_date  temp_mean_c  temp_min_c  temp_max_c  \n",
       "0     4/20/2021    17.491667        12.2        23.3  \n",
       "1     4/20/2021    13.887500         3.9        22.2  \n",
       "2     4/20/2021    15.175000         6.7        23.3  \n",
       "3     4/20/2021     9.329167         1.7        15.6  \n",
       "4     4/20/2021    16.716667        10.0        23.9  "
      ],
      "text/html": "<div>\n<style scoped>\n    .dataframe tbody tr th:only-of-type {\n        vertical-align: middle;\n    }\n\n    .dataframe tbody tr th {\n        vertical-align: top;\n    }\n\n    .dataframe thead th {\n        text-align: right;\n    }\n</style>\n<table border=\"1\" class=\"dataframe\">\n  <thead>\n    <tr style=\"text-align: right;\">\n      <th></th>\n      <th>name</th>\n      <th>country_name</th>\n      <th>country_code</th>\n      <th>continent</th>\n      <th>station_code</th>\n      <th>location_date</th>\n      <th>temp_mean_c</th>\n      <th>temp_min_c</th>\n      <th>temp_max_c</th>\n    </tr>\n  </thead>\n  <tbody>\n    <tr>\n      <th>0</th>\n      <td>Atlanta</td>\n      <td>UnitedStates</td>\n      <td>USA</td>\n      <td>North America</td>\n      <td>KATL</td>\n      <td>4/20/2021</td>\n      <td>17.491667</td>\n      <td>12.2</td>\n      <td>23.3</td>\n    </tr>\n    <tr>\n      <th>1</th>\n      <td>Windsor Locks</td>\n      <td>UnitedStates</td>\n      <td>USA</td>\n      <td>North America</td>\n      <td>KBDL</td>\n      <td>4/20/2021</td>\n      <td>13.887500</td>\n      <td>3.9</td>\n      <td>22.2</td>\n    </tr>\n    <tr>\n      <th>2</th>\n      <td>Nashville</td>\n      <td>UnitedStates</td>\n      <td>USA</td>\n      <td>North America</td>\n      <td>KBNA</td>\n      <td>4/20/2021</td>\n      <td>15.175000</td>\n      <td>6.7</td>\n      <td>23.3</td>\n    </tr>\n    <tr>\n      <th>3</th>\n      <td>Boise</td>\n      <td>UnitedStates</td>\n      <td>USA</td>\n      <td>North America</td>\n      <td>KBOI</td>\n      <td>4/20/2021</td>\n      <td>9.329167</td>\n      <td>1.7</td>\n      <td>15.6</td>\n    </tr>\n    <tr>\n      <th>4</th>\n      <td>Boston</td>\n      <td>UnitedStates</td>\n      <td>USA</td>\n      <td>North America</td>\n      <td>KBOS</td>\n      <td>4/20/2021</td>\n      <td>16.716667</td>\n      <td>10.0</td>\n      <td>23.9</td>\n    </tr>\n  </tbody>\n</table>\n</div>"
     },
     "metadata": {},
     "execution_count": 191
    }
   ],
   "source": [
    "dftemp = pd.read_csv (r'Data/temperaturedata.csv')\n",
    "dftemp.head()"
   ]
  },
  {
   "cell_type": "code",
   "execution_count": 192,
   "metadata": {},
   "outputs": [],
   "source": [
    "#check for NaN in dftemp\n",
    "NaNsum = dftemp.isna().sum().sum()"
   ]
  },
  {
   "cell_type": "code",
   "execution_count": 193,
   "metadata": {},
   "outputs": [
    {
     "output_type": "stream",
     "name": "stdout",
     "text": [
      "No NaNs\n"
     ]
    }
   ],
   "source": [
    "#if NaN > 0, drop\n",
    "if(NaNsum > 0): \n",
    "    dftemp.dropna()\n",
    "    df.head()\n",
    "else: \n",
    "    print('No NaNs')"
   ]
  },
  {
   "cell_type": "code",
   "execution_count": 194,
   "metadata": {},
   "outputs": [
    {
     "output_type": "execute_result",
     "data": {
      "text/plain": [
       "  station_code location_date  temp_mean_c  temp_min_c  temp_max_c\n",
       "0         KATL     4/20/2021    17.491667        12.2        23.3\n",
       "1         KBDL     4/20/2021    13.887500         3.9        22.2\n",
       "2         KBNA     4/20/2021    15.175000         6.7        23.3\n",
       "3         KBOI     4/20/2021     9.329167         1.7        15.6\n",
       "4         KBOS     4/20/2021    16.716667        10.0        23.9"
      ],
      "text/html": "<div>\n<style scoped>\n    .dataframe tbody tr th:only-of-type {\n        vertical-align: middle;\n    }\n\n    .dataframe tbody tr th {\n        vertical-align: top;\n    }\n\n    .dataframe thead th {\n        text-align: right;\n    }\n</style>\n<table border=\"1\" class=\"dataframe\">\n  <thead>\n    <tr style=\"text-align: right;\">\n      <th></th>\n      <th>station_code</th>\n      <th>location_date</th>\n      <th>temp_mean_c</th>\n      <th>temp_min_c</th>\n      <th>temp_max_c</th>\n    </tr>\n  </thead>\n  <tbody>\n    <tr>\n      <th>0</th>\n      <td>KATL</td>\n      <td>4/20/2021</td>\n      <td>17.491667</td>\n      <td>12.2</td>\n      <td>23.3</td>\n    </tr>\n    <tr>\n      <th>1</th>\n      <td>KBDL</td>\n      <td>4/20/2021</td>\n      <td>13.887500</td>\n      <td>3.9</td>\n      <td>22.2</td>\n    </tr>\n    <tr>\n      <th>2</th>\n      <td>KBNA</td>\n      <td>4/20/2021</td>\n      <td>15.175000</td>\n      <td>6.7</td>\n      <td>23.3</td>\n    </tr>\n    <tr>\n      <th>3</th>\n      <td>KBOI</td>\n      <td>4/20/2021</td>\n      <td>9.329167</td>\n      <td>1.7</td>\n      <td>15.6</td>\n    </tr>\n    <tr>\n      <th>4</th>\n      <td>KBOS</td>\n      <td>4/20/2021</td>\n      <td>16.716667</td>\n      <td>10.0</td>\n      <td>23.9</td>\n    </tr>\n  </tbody>\n</table>\n</div>"
     },
     "metadata": {},
     "execution_count": 194
    }
   ],
   "source": [
    "from sklearn import neighbors \n",
    "from sklearn.model_selection import train_test_split\n",
    "\n",
    "#drop name, country_name, country_code, continent\n",
    "dftemp.drop(columns=[\n",
    "    'name', \n",
    "    'country_name', \n",
    "    'country_code', \n",
    "    'continent'\n",
    "], inplace=True)\n",
    "dftemp.head()"
   ]
  },
  {
   "cell_type": "code",
   "execution_count": 195,
   "metadata": {},
   "outputs": [],
   "source": [
    "#need to replace dates with datetime objects\n",
    "import seaborn as sns \n",
    "import datetime as dt\n",
    "\n",
    "\n",
    "dftemp['date_parsed'] = pd.to_datetime(dftemp['location_date'], infer_datetime_format=True)\n",
    "\n",
    "#drop old dates\n",
    "dftemp.drop(columns=['location_date'], inplace=True)\n",
    "\n"
   ]
  },
  {
   "cell_type": "code",
   "execution_count": 196,
   "metadata": {},
   "outputs": [
    {
     "output_type": "execute_result",
     "data": {
      "text/plain": [
       "      station_code  temp_mean_c  temp_min_c  temp_max_c date_parsed\n",
       "0             KATL    17.491667        12.2        23.3  2021-04-20\n",
       "75            KATL    16.154167        11.1        21.7  2021-04-19\n",
       "78            KATL    16.720833        11.7        22.2  2021-04-18\n",
       "153           KATL    16.795833        12.8        21.7  2021-04-17\n",
       "156           KATL    14.695833        10.0        19.4  2021-04-16\n",
       "...            ...          ...         ...         ...         ...\n",
       "89025         KATL     5.045833         1.1         8.9  2015-01-05\n",
       "89100         KATL    14.279167         6.7        17.8  2015-01-04\n",
       "89103         KATL    11.154167         8.9        16.1  2015-01-03\n",
       "89178         KATL     8.116667         6.7         9.4  2015-01-02\n",
       "89181         KATL     6.758333         0.0        13.9  2015-01-01\n",
       "\n",
       "[2287 rows x 5 columns]"
      ],
      "text/html": "<div>\n<style scoped>\n    .dataframe tbody tr th:only-of-type {\n        vertical-align: middle;\n    }\n\n    .dataframe tbody tr th {\n        vertical-align: top;\n    }\n\n    .dataframe thead th {\n        text-align: right;\n    }\n</style>\n<table border=\"1\" class=\"dataframe\">\n  <thead>\n    <tr style=\"text-align: right;\">\n      <th></th>\n      <th>station_code</th>\n      <th>temp_mean_c</th>\n      <th>temp_min_c</th>\n      <th>temp_max_c</th>\n      <th>date_parsed</th>\n    </tr>\n  </thead>\n  <tbody>\n    <tr>\n      <th>0</th>\n      <td>KATL</td>\n      <td>17.491667</td>\n      <td>12.2</td>\n      <td>23.3</td>\n      <td>2021-04-20</td>\n    </tr>\n    <tr>\n      <th>75</th>\n      <td>KATL</td>\n      <td>16.154167</td>\n      <td>11.1</td>\n      <td>21.7</td>\n      <td>2021-04-19</td>\n    </tr>\n    <tr>\n      <th>78</th>\n      <td>KATL</td>\n      <td>16.720833</td>\n      <td>11.7</td>\n      <td>22.2</td>\n      <td>2021-04-18</td>\n    </tr>\n    <tr>\n      <th>153</th>\n      <td>KATL</td>\n      <td>16.795833</td>\n      <td>12.8</td>\n      <td>21.7</td>\n      <td>2021-04-17</td>\n    </tr>\n    <tr>\n      <th>156</th>\n      <td>KATL</td>\n      <td>14.695833</td>\n      <td>10.0</td>\n      <td>19.4</td>\n      <td>2021-04-16</td>\n    </tr>\n    <tr>\n      <th>...</th>\n      <td>...</td>\n      <td>...</td>\n      <td>...</td>\n      <td>...</td>\n      <td>...</td>\n    </tr>\n    <tr>\n      <th>89025</th>\n      <td>KATL</td>\n      <td>5.045833</td>\n      <td>1.1</td>\n      <td>8.9</td>\n      <td>2015-01-05</td>\n    </tr>\n    <tr>\n      <th>89100</th>\n      <td>KATL</td>\n      <td>14.279167</td>\n      <td>6.7</td>\n      <td>17.8</td>\n      <td>2015-01-04</td>\n    </tr>\n    <tr>\n      <th>89103</th>\n      <td>KATL</td>\n      <td>11.154167</td>\n      <td>8.9</td>\n      <td>16.1</td>\n      <td>2015-01-03</td>\n    </tr>\n    <tr>\n      <th>89178</th>\n      <td>KATL</td>\n      <td>8.116667</td>\n      <td>6.7</td>\n      <td>9.4</td>\n      <td>2015-01-02</td>\n    </tr>\n    <tr>\n      <th>89181</th>\n      <td>KATL</td>\n      <td>6.758333</td>\n      <td>0.0</td>\n      <td>13.9</td>\n      <td>2015-01-01</td>\n    </tr>\n  </tbody>\n</table>\n<p>2287 rows × 5 columns</p>\n</div>"
     },
     "metadata": {},
     "execution_count": 196
    }
   ],
   "source": [
    "#group by station\n",
    "grouped = dftemp.groupby(dftemp.station_code)\n",
    "df_KATL = grouped.get_group(\"KATL\")\n",
    "df_KATL"
   ]
  },
  {
   "cell_type": "code",
   "execution_count": 197,
   "metadata": {},
   "outputs": [
    {
     "output_type": "stream",
     "name": "stderr",
     "text": [
      "/Users/cadenwestmoreland/anaconda3/lib/python3.8/site-packages/pandas/core/frame.py:4163: SettingWithCopyWarning: \nA value is trying to be set on a copy of a slice from a DataFrame\n\nSee the caveats in the documentation: https://pandas.pydata.org/pandas-docs/stable/user_guide/indexing.html#returning-a-view-versus-a-copy\n  return super().drop(\n"
     ]
    }
   ],
   "source": [
    "y = df_KATL.temp_mean_c.values\n",
    "df_KATL.drop(columns=['temp_mean_c', 'date_parsed', 'station_code'], inplace=True)\n",
    "x = df_KATL.values"
   ]
  },
  {
   "cell_type": "code",
   "execution_count": 198,
   "metadata": {},
   "outputs": [
    {
     "output_type": "execute_result",
     "data": {
      "text/plain": [
       "((1829, 2), (458, 2), (1829,), (458,))"
      ]
     },
     "metadata": {},
     "execution_count": 198
    }
   ],
   "source": [
    "from sklearn.model_selection import train_test_split\n",
    "\n",
    "xtrain, xtest, ytrain, ytest = train_test_split(x, y, test_size = 0.2, random_state=1)\n",
    "\n",
    "xtrain.shape, xtest.shape, ytrain.shape, ytest.shape"
   ]
  },
  {
   "cell_type": "code",
   "execution_count": 199,
   "metadata": {},
   "outputs": [
    {
     "output_type": "execute_result",
     "data": {
      "text/plain": [
       "array([0.47006815, 0.51854193])"
      ]
     },
     "metadata": {},
     "execution_count": 199
    }
   ],
   "source": [
    "#make linear regression\n",
    "from sklearn import linear_model\n",
    "\n",
    "reg = linear_model.LinearRegression()\n",
    "reg.fit(xtrain, ytrain)\n",
    "reg.coef_"
   ]
  },
  {
   "cell_type": "code",
   "execution_count": 200,
   "metadata": {},
   "outputs": [
    {
     "output_type": "execute_result",
     "data": {
      "text/plain": [
       "(0.9938965432680634, 0.9944244965363676)"
      ]
     },
     "metadata": {},
     "execution_count": 200
    }
   ],
   "source": [
    "#check score on train and test sets. best possible = 1.0\n",
    "reg.score(xtrain, ytrain), reg.score(xtest, ytest)\n"
   ]
  },
  {
   "cell_type": "code",
   "execution_count": null,
   "metadata": {},
   "outputs": [],
   "source": [
    "#we can repeat this process for every group in grouped\n",
    "\n"
   ]
  }
 ],
 "metadata": {
  "kernelspec": {
   "name": "python3",
   "display_name": "Python 3",
   "language": "python"
  },
  "interpreter": {
   "hash": "aee8b7b246df8f9039afb4144a1f6fd8d2ca17a180786b69acc140d282b71a49"
  }
 },
 "nbformat": 4,
 "nbformat_minor": 4
}