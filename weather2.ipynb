{
 "metadata": {
  "language_info": {
   "codemirror_mode": {
    "name": "ipython",
    "version": 3
   },
   "file_extension": ".py",
   "mimetype": "text/x-python",
   "name": "python",
   "nbconvert_exporter": "python",
   "pygments_lexer": "ipython3",
   "version": "3.8.5"
  },
  "orig_nbformat": 4,
  "kernelspec": {
   "name": "python3",
   "display_name": "Python 3.8.5 64-bit ('venv': venv)"
  },
  "interpreter": {
   "hash": "c0e286d985329d3c3394ce0e445b9b4987521cdf336447ec4e7dde09a7c8cf74"
  }
 },
 "nbformat": 4,
 "nbformat_minor": 2,
 "cells": [
  {
   "cell_type": "code",
   "execution_count": 9,
   "metadata": {},
   "outputs": [
    {
     "output_type": "execute_result",
     "data": {
      "text/plain": [
       "            name  country_name country_code      continent station_code  \\\n",
       "0        Atlanta  UnitedStates          USA  North America         KATL   \n",
       "1  Windsor Locks  UnitedStates          USA  North America         KBDL   \n",
       "2      Nashville  UnitedStates          USA  North America         KBNA   \n",
       "3          Boise  UnitedStates          USA  North America         KBOI   \n",
       "4         Boston  UnitedStates          USA  North America         KBOS   \n",
       "\n",
       "  location_date  temp_mean_c  temp_min_c  temp_max_c  \n",
       "0     4/20/2021    17.491667        12.2        23.3  \n",
       "1     4/20/2021    13.887500         3.9        22.2  \n",
       "2     4/20/2021    15.175000         6.7        23.3  \n",
       "3     4/20/2021     9.329167         1.7        15.6  \n",
       "4     4/20/2021    16.716667        10.0        23.9  "
      ],
      "text/html": "<div>\n<style scoped>\n    .dataframe tbody tr th:only-of-type {\n        vertical-align: middle;\n    }\n\n    .dataframe tbody tr th {\n        vertical-align: top;\n    }\n\n    .dataframe thead th {\n        text-align: right;\n    }\n</style>\n<table border=\"1\" class=\"dataframe\">\n  <thead>\n    <tr style=\"text-align: right;\">\n      <th></th>\n      <th>name</th>\n      <th>country_name</th>\n      <th>country_code</th>\n      <th>continent</th>\n      <th>station_code</th>\n      <th>location_date</th>\n      <th>temp_mean_c</th>\n      <th>temp_min_c</th>\n      <th>temp_max_c</th>\n    </tr>\n  </thead>\n  <tbody>\n    <tr>\n      <th>0</th>\n      <td>Atlanta</td>\n      <td>UnitedStates</td>\n      <td>USA</td>\n      <td>North America</td>\n      <td>KATL</td>\n      <td>4/20/2021</td>\n      <td>17.491667</td>\n      <td>12.2</td>\n      <td>23.3</td>\n    </tr>\n    <tr>\n      <th>1</th>\n      <td>Windsor Locks</td>\n      <td>UnitedStates</td>\n      <td>USA</td>\n      <td>North America</td>\n      <td>KBDL</td>\n      <td>4/20/2021</td>\n      <td>13.887500</td>\n      <td>3.9</td>\n      <td>22.2</td>\n    </tr>\n    <tr>\n      <th>2</th>\n      <td>Nashville</td>\n      <td>UnitedStates</td>\n      <td>USA</td>\n      <td>North America</td>\n      <td>KBNA</td>\n      <td>4/20/2021</td>\n      <td>15.175000</td>\n      <td>6.7</td>\n      <td>23.3</td>\n    </tr>\n    <tr>\n      <th>3</th>\n      <td>Boise</td>\n      <td>UnitedStates</td>\n      <td>USA</td>\n      <td>North America</td>\n      <td>KBOI</td>\n      <td>4/20/2021</td>\n      <td>9.329167</td>\n      <td>1.7</td>\n      <td>15.6</td>\n    </tr>\n    <tr>\n      <th>4</th>\n      <td>Boston</td>\n      <td>UnitedStates</td>\n      <td>USA</td>\n      <td>North America</td>\n      <td>KBOS</td>\n      <td>4/20/2021</td>\n      <td>16.716667</td>\n      <td>10.0</td>\n      <td>23.9</td>\n    </tr>\n  </tbody>\n</table>\n</div>"
     },
     "metadata": {},
     "execution_count": 9
    }
   ],
   "source": [
    "import pandas as pd\n",
    "\n",
    "# Read data using pandas\n",
    "dfpop = pd.read_csv     (r'Data/populationdata.csv')\n",
    "\n",
    "dftemp = pd.read_csv (r'Data/temperaturedata.csv')\n",
    "dftemp.head()"
   ]
  },
  {
   "cell_type": "code",
   "execution_count": 10,
   "metadata": {},
   "outputs": [
    {
     "output_type": "stream",
     "name": "stdout",
     "text": [
      "No NaNs\n"
     ]
    }
   ],
   "source": [
    "#check for NaN in dftemp\n",
    "\n",
    "NaNsum = dftemp.isna().sum().sum()\n",
    "\n",
    "#if NaN > 0, drop\n",
    "if(NaNsum > 0): \n",
    "    dftemp.dropna()\n",
    "    df.head()\n",
    "else: \n",
    "    print('No NaNs')"
   ]
  },
  {
   "cell_type": "code",
   "execution_count": 11,
   "metadata": {},
   "outputs": [
    {
     "output_type": "execute_result",
     "data": {
      "text/plain": [
       "  station_code location_date  temp_mean_c  temp_min_c  temp_max_c\n",
       "0         KATL     4/20/2021    17.491667        12.2        23.3\n",
       "1         KBDL     4/20/2021    13.887500         3.9        22.2\n",
       "2         KBNA     4/20/2021    15.175000         6.7        23.3\n",
       "3         KBOI     4/20/2021     9.329167         1.7        15.6\n",
       "4         KBOS     4/20/2021    16.716667        10.0        23.9"
      ],
      "text/html": "<div>\n<style scoped>\n    .dataframe tbody tr th:only-of-type {\n        vertical-align: middle;\n    }\n\n    .dataframe tbody tr th {\n        vertical-align: top;\n    }\n\n    .dataframe thead th {\n        text-align: right;\n    }\n</style>\n<table border=\"1\" class=\"dataframe\">\n  <thead>\n    <tr style=\"text-align: right;\">\n      <th></th>\n      <th>station_code</th>\n      <th>location_date</th>\n      <th>temp_mean_c</th>\n      <th>temp_min_c</th>\n      <th>temp_max_c</th>\n    </tr>\n  </thead>\n  <tbody>\n    <tr>\n      <th>0</th>\n      <td>KATL</td>\n      <td>4/20/2021</td>\n      <td>17.491667</td>\n      <td>12.2</td>\n      <td>23.3</td>\n    </tr>\n    <tr>\n      <th>1</th>\n      <td>KBDL</td>\n      <td>4/20/2021</td>\n      <td>13.887500</td>\n      <td>3.9</td>\n      <td>22.2</td>\n    </tr>\n    <tr>\n      <th>2</th>\n      <td>KBNA</td>\n      <td>4/20/2021</td>\n      <td>15.175000</td>\n      <td>6.7</td>\n      <td>23.3</td>\n    </tr>\n    <tr>\n      <th>3</th>\n      <td>KBOI</td>\n      <td>4/20/2021</td>\n      <td>9.329167</td>\n      <td>1.7</td>\n      <td>15.6</td>\n    </tr>\n    <tr>\n      <th>4</th>\n      <td>KBOS</td>\n      <td>4/20/2021</td>\n      <td>16.716667</td>\n      <td>10.0</td>\n      <td>23.9</td>\n    </tr>\n  </tbody>\n</table>\n</div>"
     },
     "metadata": {},
     "execution_count": 11
    }
   ],
   "source": [
    "from sklearn import neighbors \n",
    "from sklearn.model_selection import train_test_split\n",
    "\n",
    "#drop name, country_name, country_code, continent\n",
    "dftemp.drop(columns=[\n",
    "    'name', \n",
    "    'country_name', \n",
    "    'country_code', \n",
    "    'continent'\n",
    "], inplace=True)\n",
    "dftemp.head()"
   ]
  },
  {
   "cell_type": "code",
   "execution_count": 12,
   "metadata": {},
   "outputs": [
    {
     "output_type": "execute_result",
     "data": {
      "text/plain": [
       "  station_code  temp_mean_c  temp_min_c  temp_max_c date_parsed\n",
       "0         KATL    17.491667        12.2        23.3  2021-04-20\n",
       "1         KBDL    13.887500         3.9        22.2  2021-04-20\n",
       "2         KBNA    15.175000         6.7        23.3  2021-04-20\n",
       "3         KBOI     9.329167         1.7        15.6  2021-04-20\n",
       "4         KBOS    16.716667        10.0        23.9  2021-04-20"
      ],
      "text/html": "<div>\n<style scoped>\n    .dataframe tbody tr th:only-of-type {\n        vertical-align: middle;\n    }\n\n    .dataframe tbody tr th {\n        vertical-align: top;\n    }\n\n    .dataframe thead th {\n        text-align: right;\n    }\n</style>\n<table border=\"1\" class=\"dataframe\">\n  <thead>\n    <tr style=\"text-align: right;\">\n      <th></th>\n      <th>station_code</th>\n      <th>temp_mean_c</th>\n      <th>temp_min_c</th>\n      <th>temp_max_c</th>\n      <th>date_parsed</th>\n    </tr>\n  </thead>\n  <tbody>\n    <tr>\n      <th>0</th>\n      <td>KATL</td>\n      <td>17.491667</td>\n      <td>12.2</td>\n      <td>23.3</td>\n      <td>2021-04-20</td>\n    </tr>\n    <tr>\n      <th>1</th>\n      <td>KBDL</td>\n      <td>13.887500</td>\n      <td>3.9</td>\n      <td>22.2</td>\n      <td>2021-04-20</td>\n    </tr>\n    <tr>\n      <th>2</th>\n      <td>KBNA</td>\n      <td>15.175000</td>\n      <td>6.7</td>\n      <td>23.3</td>\n      <td>2021-04-20</td>\n    </tr>\n    <tr>\n      <th>3</th>\n      <td>KBOI</td>\n      <td>9.329167</td>\n      <td>1.7</td>\n      <td>15.6</td>\n      <td>2021-04-20</td>\n    </tr>\n    <tr>\n      <th>4</th>\n      <td>KBOS</td>\n      <td>16.716667</td>\n      <td>10.0</td>\n      <td>23.9</td>\n      <td>2021-04-20</td>\n    </tr>\n  </tbody>\n</table>\n</div>"
     },
     "metadata": {},
     "execution_count": 12
    }
   ],
   "source": [
    "import datetime as dt\n",
    "\n",
    "\n",
    "dftemp['date_parsed'] = pd.to_datetime(dftemp['location_date'], infer_datetime_format=True)\n",
    "\n",
    "#drop old dates\n",
    "dftemp.drop(columns=['location_date'], inplace=True)\n",
    "\n",
    "dftemp.head()"
   ]
  },
  {
   "cell_type": "code",
   "execution_count": null,
   "metadata": {},
   "outputs": [],
   "source": [
    "import sklearn.metrics as metrics\n",
    "def regression_results(y_true, y_pred): \n",
    "    #Regression metrics\n",
    "\n",
    "    explained_variance = metrics.explained_variance_score(y_true, y_pred)\n",
    "    mean_absolute_error = metrics.mean_absolute_error(y_true, y_pred)\n",
    "    mse = metrics.mean_squared_error(y_true, y_pred)\n",
    "    mean_squared_log_error=metrics.mean_squared_log_error(y_true, y_pred)\n",
    "    r2 = metrics.r2_score(y_true, y_pred)\n",
    "\n",
    "    print('explained_variance: ', round(explained_variance, 4))\n",
    "    print('mean_squared_log_error: ', round(mean_squared_log_error,4))\n",
    "    print('r2: ', round(r2,4))\n",
    "    print('MAE: ', round(mean_absolute_error,4))\n",
    "    print('MSE: ', round(mse,4))\n",
    "    print('RMSE: ', round(np.sqrt(mse),4))"
   ]
  }
 ]
}